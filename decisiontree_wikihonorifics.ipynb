{
  "nbformat": 4,
  "nbformat_minor": 0,
  "metadata": {
    "colab": {
      "provenance": [],
      "authorship_tag": "ABX9TyMHJNH6dcA7aUpn2BN4G/sy",
      "include_colab_link": true
    },
    "kernelspec": {
      "name": "python3",
      "display_name": "Python 3"
    },
    "language_info": {
      "name": "python"
    }
  },
  "cells": [
    {
      "cell_type": "markdown",
      "metadata": {
        "id": "view-in-github",
        "colab_type": "text"
      },
      "source": [
        "<a href=\"https://colab.research.google.com/github/souro/misc_google_collab/blob/main/decisiontree_wikihonorifics.ipynb\" target=\"_parent\"><img src=\"https://colab.research.google.com/assets/colab-badge.svg\" alt=\"Open In Colab\"/></a>"
      ]
    },
    {
      "cell_type": "markdown",
      "source": [
        "\n",
        "\n",
        "*   Data Prep: Encode features -> numerical values using label_encoders/one-hot encoding.\n",
        "*   Model: Decision Tree\n",
        "\n",
        "\n",
        "\n"
      ],
      "metadata": {
        "id": "uiWQpLn0GON5"
      }
    },
    {
      "cell_type": "code",
      "execution_count": null,
      "metadata": {
        "id": "3YpUTjcrF4EP"
      },
      "outputs": [],
      "source": [
        "import pandas as pd\n",
        "from sklearn.model_selection import train_test_split\n",
        "from sklearn.tree import DecisionTreeClassifier\n",
        "from sklearn.preprocessing import LabelEncoder\n",
        "from sklearn.metrics import accuracy_score\n",
        "\n",
        "df = pd.read_csv('wiki_honorifics_dataset.csv')\n",
        "\n",
        "target = 'Pronoun'\n",
        "\n",
        "features = ['Article Title', 'Human/Non-Human', 'Fame', 'Age', 'Gender', 'Profession',\n",
        "            'Native/Exotic', 'Real/Fictional', 'Alive/Dead', 'Era', 'Mythological']\n",
        "\n",
        "label_encoders = {}\n",
        "for feature in features:\n",
        "    if df[feature].dtype == 'object':\n",
        "        le = LabelEncoder()\n",
        "        df[feature] = le.fit_transform(df[feature])\n",
        "        label_encoders[feature] = le\n",
        "\n",
        "X = df[features]\n",
        "y = df[target]\n",
        "X_train, X_test, y_train, y_test = train_test_split(X, y, test_size=0.2, random_state=42)\n",
        "\n",
        "clf = DecisionTreeClassifier(random_state=42)\n",
        "clf.fit(X_train, y_train)\n",
        "\n",
        "y_pred = clf.predict(X_test)\n",
        "\n",
        "accuracy = accuracy_score(y_test, y_pred)\n",
        "print(f'Accuracy: {accuracy:.2f}')\n"
      ]
    },
    {
      "cell_type": "code",
      "source": [
        "from sklearn.tree import export_graphviz\n",
        "import graphviz\n",
        "\n",
        "dot_data = export_graphviz(clf, out_file=None,\n",
        "                           feature_names=features,\n",
        "                           class_names=clf.classes_,\n",
        "                           filled=True, rounded=True,\n",
        "                           special_characters=True)\n",
        "graph = graphviz.Source(dot_data)\n",
        "graph.render(\"decision_tree\")"
      ],
      "metadata": {
        "id": "YqdTo3NnHmh_"
      },
      "execution_count": null,
      "outputs": []
    }
  ]
}